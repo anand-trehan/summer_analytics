{
 "cells": [
  {
   "cell_type": "markdown",
   "metadata": {},
   "source": [
    "# Generating random numbers "
   ]
  },
  {
   "cell_type": "code",
   "execution_count": 1,
   "metadata": {},
   "outputs": [],
   "source": [
    "import pandas as pd\n",
    "import numpy as np\n",
    "import matplotlib.pyplot as plt\n",
    "%matplotlib inline\n",
    "from numpy.random import rand"
   ]
  },
  {
   "cell_type": "code",
   "execution_count": 2,
   "metadata": {},
   "outputs": [],
   "source": [
    "ds=rand(1000)"
   ]
  },
  {
   "cell_type": "markdown",
   "metadata": {},
   "source": [
    "I generated a sample of 1000 random numbers"
   ]
  },
  {
   "cell_type": "code",
   "execution_count": 3,
   "metadata": {},
   "outputs": [
    {
     "data": {
      "text/plain": [
       "array([3.85454255e-01, 9.38346736e-02, 2.62224536e-01, 7.88768407e-01,\n",
       "       6.01597892e-01, 9.82264038e-01, 1.66484726e-01, 1.88516621e-01,\n",
       "       2.44961176e-01, 2.87256025e-02, 1.32054124e-02, 2.41364994e-02,\n",
       "       1.13542904e-01, 1.88094914e-01, 6.18337297e-01, 6.19645158e-01,\n",
       "       2.48100890e-01, 1.55128926e-01, 6.34755337e-01, 3.84649354e-01,\n",
       "       7.74693939e-01, 9.37163756e-01, 7.63493528e-01, 3.95927707e-02,\n",
       "       1.60141122e-01, 2.59268945e-01, 7.31316634e-01, 4.83432124e-01,\n",
       "       8.85321210e-01, 3.27024072e-01, 3.62390324e-01, 3.02633023e-01,\n",
       "       8.00787610e-01, 2.40312337e-01, 8.62506446e-01, 1.65763351e-01,\n",
       "       7.73668096e-01, 4.41286943e-02, 6.52405083e-01, 3.78317919e-01,\n",
       "       8.23860700e-01, 5.00761570e-01, 1.88337485e-01, 6.86314144e-01,\n",
       "       2.75891623e-01, 2.40718866e-01, 5.76932283e-01, 7.64888956e-01,\n",
       "       1.80532851e-01, 4.43448541e-01, 8.10348428e-01, 5.80341333e-01,\n",
       "       3.31909578e-01, 3.22696719e-01, 2.49029471e-01, 5.05668216e-01,\n",
       "       3.63958450e-01, 3.18323129e-01, 7.62811287e-01, 3.49378370e-01,\n",
       "       9.90515021e-01, 4.04495558e-01, 4.84330801e-01, 2.00731911e-01,\n",
       "       7.38967261e-01, 5.67660220e-01, 6.24244473e-01, 9.08135129e-01,\n",
       "       7.32733908e-01, 8.81767918e-01, 9.10877045e-01, 3.07309150e-01,\n",
       "       5.53014617e-01, 6.90562777e-01, 4.22917593e-01, 7.88518772e-01,\n",
       "       8.45396677e-01, 4.33892966e-01, 8.28003622e-01, 9.01051586e-01,\n",
       "       3.07744664e-01, 4.64057479e-01, 1.10119281e-01, 6.87382654e-01,\n",
       "       3.81879908e-01, 5.58810573e-01, 2.39357597e-02, 4.59334730e-02,\n",
       "       4.86242390e-01, 2.16732302e-01, 5.77133658e-02, 8.22565286e-01,\n",
       "       5.29823469e-01, 6.25793168e-01, 9.30980175e-01, 7.91002512e-01,\n",
       "       3.43398355e-01, 9.61966582e-01, 6.58476242e-01, 6.83575076e-01,\n",
       "       4.29418966e-01, 4.40249096e-01, 3.20088567e-01, 6.49998507e-01,\n",
       "       5.76953706e-01, 4.00980092e-01, 4.65126204e-01, 2.52059029e-01,\n",
       "       7.06887698e-02, 4.04319155e-01, 3.07874296e-01, 4.70563100e-01,\n",
       "       4.17607619e-01, 7.09687331e-02, 1.61749986e-01, 6.23485916e-01,\n",
       "       1.66499368e-01, 6.36677332e-01, 7.34149417e-01, 6.13557209e-01,\n",
       "       1.03821962e-01, 2.47393763e-01, 3.96350236e-01, 9.03868366e-01,\n",
       "       7.05550822e-01, 3.02724154e-01, 7.85783649e-01, 8.22289968e-01,\n",
       "       8.23245143e-01, 6.47522521e-01, 3.93243118e-01, 6.07419663e-01,\n",
       "       9.85785217e-02, 7.18589215e-01, 6.11427994e-01, 4.39981181e-01,\n",
       "       2.33128488e-01, 8.03139013e-01, 4.60719731e-01, 6.48609928e-01,\n",
       "       7.86759629e-02, 2.27830517e-01, 9.07109673e-01, 6.67329718e-01,\n",
       "       5.67847304e-01, 5.05394298e-01, 7.23332374e-01, 5.48200330e-01,\n",
       "       2.16574973e-01, 3.42184691e-01, 2.80832951e-01, 1.03914859e-01,\n",
       "       4.23832647e-01, 7.21961834e-01, 3.06500455e-01, 2.85174949e-01,\n",
       "       6.51912548e-01, 4.98184050e-01, 3.36456786e-01, 3.99002474e-01,\n",
       "       3.13698117e-01, 2.17230310e-01, 7.74878993e-01, 5.59539578e-01,\n",
       "       8.91362111e-01, 7.06982605e-03, 1.79810886e-02, 7.82423773e-01,\n",
       "       3.55995748e-01, 6.41355781e-01, 4.72433272e-01, 2.13579413e-01,\n",
       "       8.26092811e-01, 3.75472347e-01, 4.07694997e-02, 1.32664441e-01,\n",
       "       9.93723346e-01, 1.09191411e-01, 4.87009253e-01, 9.81295524e-01,\n",
       "       3.20447491e-01, 3.75584600e-01, 8.12804643e-01, 9.62783188e-01,\n",
       "       9.02480355e-01, 5.34512476e-01, 5.70673841e-01, 8.10726419e-01,\n",
       "       1.74703867e-01, 6.47555830e-01, 4.67050274e-01, 9.10126265e-01,\n",
       "       7.67814857e-01, 7.79852517e-01, 1.60037143e-01, 8.99457627e-01,\n",
       "       5.91913965e-01, 9.87390843e-02, 2.91497023e-01, 1.88785871e-01,\n",
       "       5.01783729e-01, 7.42664799e-01, 3.94903367e-01, 6.75859160e-02,\n",
       "       3.74529004e-01, 1.88895186e-03, 8.51439831e-01, 6.26664489e-01,\n",
       "       8.27900890e-01, 8.82010190e-01, 7.05060065e-02, 8.85895531e-01,\n",
       "       3.99010595e-01, 7.75819628e-01, 4.27911793e-01, 4.47681315e-01,\n",
       "       8.90187401e-01, 8.86207801e-02, 1.87193758e-01, 5.42680408e-02,\n",
       "       3.55762310e-01, 4.07088361e-01, 6.21424797e-01, 2.64580100e-01,\n",
       "       2.75798836e-01, 3.86297308e-01, 2.58318159e-01, 3.44442282e-01,\n",
       "       2.00397531e-01, 5.21029764e-01, 9.48881227e-01, 7.88023764e-01,\n",
       "       5.87480184e-01, 7.29504234e-01, 9.41671742e-01, 7.63533558e-01,\n",
       "       5.32496741e-01, 6.80333342e-01, 3.93313654e-01, 2.35254228e-03,\n",
       "       6.20078813e-01, 7.16815800e-01, 1.46886073e-04, 5.18519123e-01,\n",
       "       2.90219123e-01, 8.52338780e-01, 1.26924378e-01, 6.69582624e-01,\n",
       "       6.79407771e-02, 2.71251380e-01, 5.00858822e-02, 1.53120727e-02,\n",
       "       1.41533353e-01, 8.84976085e-02, 3.54307051e-01, 2.65377459e-01,\n",
       "       7.16598454e-01, 6.66759297e-01, 6.20239374e-02, 8.93957175e-01,\n",
       "       1.77764819e-01, 8.16914832e-01, 9.82139380e-01, 2.98210591e-01,\n",
       "       7.14860963e-01, 7.66416529e-01, 4.68538184e-01, 8.23046772e-01,\n",
       "       6.59249471e-01, 2.93084465e-02, 2.38869409e-01, 7.62701629e-01,\n",
       "       5.24652547e-01, 7.64617936e-01, 9.34328444e-01, 8.11913576e-01,\n",
       "       1.69411385e-01, 7.86973259e-01, 8.32001914e-01, 4.03355975e-01,\n",
       "       2.59122003e-02, 9.21447017e-01, 8.70144950e-01, 1.23836892e-02,\n",
       "       7.39170264e-01, 5.09677189e-01, 4.86567338e-01, 2.45196056e-01,\n",
       "       1.36483678e-01, 4.71185868e-01, 6.74180351e-01, 9.95267692e-01,\n",
       "       7.03949932e-01, 2.57948658e-01, 7.31176136e-01, 3.08623163e-01,\n",
       "       2.06358329e-01, 8.68041276e-01, 1.19148480e-01, 8.64910434e-01,\n",
       "       2.19523476e-01, 3.53409821e-01, 1.27763419e-01, 7.49210774e-01,\n",
       "       8.05616344e-02, 2.09903443e-01, 3.74441576e-01, 8.04828025e-01,\n",
       "       3.04030001e-01, 4.03316923e-01, 8.56821910e-01, 6.44606759e-03,\n",
       "       9.36506047e-01, 8.55014082e-02, 5.76917030e-01, 2.11318215e-01,\n",
       "       5.22021868e-01, 8.75114503e-01, 6.18926615e-01, 7.39565255e-01,\n",
       "       9.86430734e-01, 7.26212801e-01, 3.55851196e-01, 8.50984962e-01,\n",
       "       7.52833942e-01, 2.88941666e-02, 7.77488223e-01, 3.26937496e-01,\n",
       "       7.85517586e-02, 2.12345164e-01, 8.98894082e-01, 2.38252824e-01,\n",
       "       2.80199467e-01, 4.77985510e-01, 2.65661108e-01, 4.51751451e-01,\n",
       "       3.97587015e-01, 3.38474796e-01, 2.59468312e-01, 5.69663617e-01,\n",
       "       5.15847133e-01, 8.95921070e-01, 8.09249422e-01, 5.13127174e-01,\n",
       "       6.30009635e-01, 9.10704071e-01, 9.20616979e-01, 6.35557932e-01,\n",
       "       8.57556007e-01, 7.02544177e-01, 5.36788584e-01, 1.12135866e-02,\n",
       "       7.08836358e-01, 4.24422749e-01, 1.49975854e-01, 4.07011418e-01,\n",
       "       9.67130294e-01, 6.49315399e-01, 5.36712715e-01, 8.74757528e-01,\n",
       "       2.27231860e-01, 7.40026056e-01, 5.98850645e-01, 8.53839518e-01,\n",
       "       5.23517261e-02, 1.77431992e-01, 5.94990138e-01, 6.16871886e-02,\n",
       "       3.39888405e-01, 9.36394035e-01, 3.00133528e-01, 7.88216747e-01,\n",
       "       6.41847696e-01, 7.53903934e-01, 2.90294227e-01, 2.01577970e-02,\n",
       "       1.76332112e-01, 5.09622509e-01, 1.76603999e-01, 5.82859134e-01,\n",
       "       1.56135170e-01, 3.78369107e-01, 2.03281263e-01, 4.23282925e-02,\n",
       "       1.22279041e-01, 1.19386505e-01, 7.45997819e-01, 3.10007372e-01,\n",
       "       5.69671000e-01, 4.36580893e-01, 5.91701367e-02, 2.28248027e-01,\n",
       "       3.59525792e-01, 8.29980212e-01, 8.15867110e-01, 2.88766603e-01,\n",
       "       7.76256609e-01, 6.53432239e-01, 5.73955898e-01, 7.98505462e-03,\n",
       "       3.43521857e-01, 8.36113486e-01, 9.57114052e-02, 6.51298806e-01,\n",
       "       2.32247918e-01, 3.86347156e-01, 8.28399475e-01, 3.97653964e-02,\n",
       "       8.07435098e-01, 8.79567468e-01, 3.64788293e-01, 2.56594154e-01,\n",
       "       9.60667839e-01, 2.46530112e-01, 9.98422162e-01, 4.12830220e-01,\n",
       "       2.11804180e-01, 1.80198515e-01, 3.38526527e-01, 9.39475921e-01,\n",
       "       1.52830633e-01, 9.09719422e-01, 1.04506819e-01, 4.32108215e-01,\n",
       "       3.31415013e-01, 3.57684723e-01, 1.38499105e-01, 3.52505635e-01,\n",
       "       4.72254728e-01, 2.49411121e-01, 9.94846541e-01, 8.57987836e-01,\n",
       "       9.65808860e-01, 8.31078279e-01, 2.28795598e-01, 4.46809481e-01,\n",
       "       6.07519698e-01, 1.50219926e-01, 9.23497338e-01, 4.87864479e-01,\n",
       "       6.71011452e-01, 4.43971884e-01, 7.65134497e-01, 1.02849674e-01,\n",
       "       1.88070572e-01, 2.99174915e-01, 3.27866503e-01, 4.72406985e-01,\n",
       "       7.45771635e-01, 2.81222531e-01, 6.25193205e-01, 5.81219577e-01,\n",
       "       8.51648082e-01, 4.86607173e-01, 1.47093936e-02, 5.11093329e-01,\n",
       "       9.33577653e-01, 2.78109461e-01, 6.33363849e-01, 7.63375060e-01,\n",
       "       4.94403384e-01, 3.20387451e-01, 2.20602752e-01, 9.89280902e-01,\n",
       "       9.17639532e-01, 6.07891927e-01, 7.25694126e-01, 1.42852018e-01,\n",
       "       8.23884574e-01, 6.23152017e-01, 6.89548216e-01, 2.16872930e-01,\n",
       "       3.08372996e-01, 2.22439322e-01, 1.68023923e-01, 7.76437038e-01,\n",
       "       1.21316753e-01, 5.64506465e-01, 3.56132391e-01, 8.35497021e-01,\n",
       "       8.51033463e-01, 7.74252120e-01, 7.23950282e-01, 1.56563776e-01,\n",
       "       5.57499763e-01, 7.76050401e-01, 6.63969715e-01, 3.51541525e-01,\n",
       "       4.69182082e-01, 8.45427093e-01, 7.68979453e-01, 7.72838778e-01,\n",
       "       5.48178036e-01, 2.02629186e-01, 1.83043461e-01, 5.29748436e-01,\n",
       "       3.87304110e-01, 9.98740628e-01, 9.59150640e-01, 1.41817428e-01,\n",
       "       6.43281459e-01, 2.01498250e-01, 8.37993350e-02, 1.75907005e-01,\n",
       "       9.93709242e-01, 4.87878177e-01, 9.68046019e-01, 9.63745987e-02,\n",
       "       2.08097757e-01, 9.11759983e-01, 3.36974825e-01, 3.42199185e-01,\n",
       "       3.92903274e-01, 8.18163981e-01, 1.01053319e-04, 3.44158263e-01,\n",
       "       1.13716455e-01, 9.38005655e-01, 1.65237902e-01, 7.75572357e-01,\n",
       "       9.22483306e-02, 3.28033008e-01, 4.79009459e-01, 8.60426675e-01,\n",
       "       6.00541795e-02, 9.87595946e-01, 8.92223130e-01, 1.11062412e-01,\n",
       "       3.65373958e-01, 2.23452573e-02, 6.16665970e-01, 5.91448834e-01,\n",
       "       6.09445172e-01, 3.73770499e-01, 7.39347406e-01, 6.12458152e-01,\n",
       "       7.88794827e-01, 5.74955559e-01, 8.88421658e-01, 7.05968221e-01,\n",
       "       6.39380588e-02, 4.43258961e-01, 8.76304776e-01, 5.75437839e-01,\n",
       "       7.91307171e-01, 9.26233810e-01, 1.50422014e-01, 2.08834864e-01,\n",
       "       3.41839100e-01, 2.61926530e-01, 8.87694318e-02, 1.29671108e-01,\n",
       "       2.43087151e-01, 9.61722742e-01, 3.56659051e-01, 5.51598902e-01,\n",
       "       5.12030851e-01, 8.17834642e-01, 9.04811381e-01, 6.14648429e-01,\n",
       "       7.54636715e-01, 2.55894534e-01, 3.74204429e-02, 1.26107753e-01,\n",
       "       6.34680494e-01, 6.59204708e-01, 7.23626821e-01, 2.51363130e-01,\n",
       "       2.39380087e-01, 9.20563234e-01, 9.95728918e-01, 6.01466515e-01,\n",
       "       8.39948841e-01, 7.92480788e-01, 7.02222599e-01, 6.32002914e-01,\n",
       "       1.24149316e-01, 6.23597006e-01, 1.14421094e-01, 8.92349150e-01,\n",
       "       6.17393318e-01, 6.40246014e-01, 8.79592131e-01, 4.22019899e-01,\n",
       "       4.27840246e-01, 1.12139592e-01, 4.84635898e-01, 4.72337215e-01,\n",
       "       6.14064821e-02, 7.29426030e-01, 1.20406452e-01, 7.32062129e-01,\n",
       "       9.47460777e-02, 4.83252889e-01, 1.70877431e-01, 4.61378690e-02,\n",
       "       8.91721384e-01, 2.42809342e-01, 1.58828279e-02, 5.25986387e-02,\n",
       "       2.70727365e-01, 8.78258160e-01, 4.64150190e-01, 3.38214810e-01,\n",
       "       6.44101606e-01, 9.30981716e-01, 9.61927329e-01, 5.24845323e-02,\n",
       "       8.32721734e-01, 8.79412004e-01, 6.43850056e-01, 4.92675746e-01,\n",
       "       4.86090225e-01, 9.01139051e-01, 4.37328072e-01, 2.62071787e-01,\n",
       "       3.40659192e-01, 1.46741914e-01, 2.15722797e-01, 9.90363975e-01,\n",
       "       1.96860307e-01, 8.74264513e-01, 6.27420745e-01, 9.49287526e-01,\n",
       "       8.84981664e-01, 5.89856261e-01, 9.95464699e-01, 5.16445075e-01,\n",
       "       8.98897398e-01, 2.41011485e-01, 3.02608636e-01, 8.47295667e-01,\n",
       "       1.12207095e-01, 6.93823208e-01, 2.16700824e-01, 6.34511496e-01,\n",
       "       6.67712022e-01, 9.30735156e-01, 8.45731339e-01, 6.40594349e-01,\n",
       "       3.90926943e-02, 1.23557210e-01, 6.13209743e-01, 7.88275957e-01,\n",
       "       9.24784021e-01, 3.84482611e-01, 1.88983164e-01, 7.14591632e-02,\n",
       "       3.35845933e-01, 2.72110210e-01, 5.84900503e-01, 1.17963205e-01,\n",
       "       5.67464938e-01, 6.43885573e-01, 7.96260373e-01, 3.41269679e-01,\n",
       "       2.12360053e-01, 4.08361855e-01, 2.15873648e-01, 7.15609059e-01,\n",
       "       2.65781050e-01, 5.08769899e-01, 9.80491010e-01, 1.00169415e-01,\n",
       "       2.47641699e-01, 7.71190042e-01, 9.18245263e-01, 9.49643427e-01,\n",
       "       9.51635425e-01, 4.39770756e-01, 1.97247632e-02, 7.02592047e-01,\n",
       "       5.50456572e-01, 8.33103866e-01, 8.47836038e-01, 7.98002322e-01,\n",
       "       3.90929033e-01, 7.31638784e-01, 3.24412544e-01, 5.00950518e-01,\n",
       "       1.87582795e-01, 9.95394271e-01, 6.89440824e-01, 3.61720619e-02,\n",
       "       6.01326503e-01, 5.81813506e-01, 1.15297678e-01, 1.20323220e-01,\n",
       "       9.56669230e-02, 1.22046594e-01, 4.07677195e-01, 2.04595099e-01,\n",
       "       6.76783447e-01, 6.80996520e-01, 5.47369100e-01, 6.04959406e-02,\n",
       "       1.99827968e-01, 4.15128527e-01, 1.32745408e-02, 7.13994327e-01,\n",
       "       2.84705536e-01, 9.44282358e-01, 1.14977993e-01, 7.67036011e-01,\n",
       "       8.80229706e-01, 2.97052374e-01, 9.48009346e-01, 6.84648665e-01,\n",
       "       1.08472611e-01, 5.23085785e-01, 8.84814302e-01, 5.90149688e-01,\n",
       "       2.66001940e-01, 9.29111393e-01, 7.76605351e-02, 9.23116682e-01,\n",
       "       4.10070739e-01, 7.87909444e-01, 4.51975249e-01, 5.51152972e-01,\n",
       "       5.58073344e-01, 2.79728226e-01, 9.63057631e-01, 3.87605054e-01,\n",
       "       8.15566266e-01, 2.96150379e-01, 7.37251905e-02, 7.13574666e-01,\n",
       "       6.94949768e-01, 3.34049108e-01, 6.94311375e-01, 3.26975614e-01,\n",
       "       9.36792790e-01, 4.27180489e-02, 5.61470145e-01, 2.04944138e-01,\n",
       "       6.38501920e-01, 3.19332025e-01, 9.22040891e-02, 7.60385373e-01,\n",
       "       3.70972724e-01, 2.88170847e-01, 3.09064663e-01, 4.13105149e-02,\n",
       "       2.53681303e-01, 6.82077608e-01, 5.36728051e-01, 3.80510603e-01,\n",
       "       3.41757499e-01, 8.03851709e-01, 6.32257127e-01, 7.20048591e-02,\n",
       "       3.41569961e-01, 3.30576175e-03, 8.96286816e-01, 5.86843355e-01,\n",
       "       1.94513777e-01, 1.62534450e-01, 1.44858366e-01, 5.19666200e-01,\n",
       "       1.96267836e-01, 1.30520325e-01, 8.56297232e-01, 6.21783280e-01,\n",
       "       2.93341029e-02, 8.02373824e-01, 1.18547834e-01, 2.85796309e-01,\n",
       "       1.49861841e-01, 6.46683050e-01, 5.81635924e-01, 1.20813793e-01,\n",
       "       3.00633159e-01, 2.81527764e-01, 3.38309648e-01, 5.61747186e-01,\n",
       "       5.43516324e-01, 6.55118198e-01, 6.47034722e-02, 5.16074211e-01,\n",
       "       1.06794397e-01, 3.27839294e-02, 9.83113883e-01, 3.79267058e-01,\n",
       "       5.46375973e-01, 7.43589852e-01, 4.35437954e-01, 9.43179819e-02,\n",
       "       9.84342813e-01, 1.14207451e-01, 2.58521070e-01, 5.78919951e-01,\n",
       "       8.93669232e-01, 9.51059055e-01, 2.74018361e-01, 4.69356299e-01,\n",
       "       5.52245289e-01, 5.05804303e-01, 4.67660834e-01, 1.09980532e-01,\n",
       "       3.37685096e-01, 8.43206736e-01, 3.44388057e-01, 3.58070673e-01,\n",
       "       9.93572420e-01, 2.93183696e-01, 4.88657394e-01, 9.63509460e-01,\n",
       "       2.47382451e-01, 1.27566243e-01, 7.20725627e-01, 7.17453664e-01,\n",
       "       8.63855078e-01, 4.10460689e-02, 9.56088588e-01, 5.41604919e-02,\n",
       "       8.64523446e-01, 3.42012715e-02, 7.92817189e-01, 6.07029946e-01,\n",
       "       3.21942754e-01, 3.53487390e-01, 3.98543792e-01, 8.74908434e-01,\n",
       "       9.49308914e-01, 9.80732253e-01, 2.63352373e-01, 5.62615324e-01,\n",
       "       9.29797569e-01, 4.66556519e-01, 4.71033958e-01, 4.69717836e-01,\n",
       "       3.73652152e-01, 4.03405395e-01, 7.11163813e-01, 8.42177070e-01,\n",
       "       3.15937996e-01, 6.12616782e-01, 4.72277612e-01, 4.05308559e-02,\n",
       "       7.58715666e-01, 8.06318705e-01, 7.06900102e-01, 9.93214290e-01,\n",
       "       1.53558136e-01, 5.07116111e-01, 4.25501348e-01, 1.69411749e-01,\n",
       "       8.49538736e-01, 2.54864345e-01, 1.59025551e-01, 2.62459873e-01,\n",
       "       1.50096466e-01, 5.37608835e-01, 5.12647553e-01, 7.96610336e-01,\n",
       "       6.76490616e-01, 6.77753075e-01, 8.11762773e-01, 9.47468806e-01,\n",
       "       6.96502390e-01, 9.49352349e-01, 5.88424209e-03, 7.77647096e-01,\n",
       "       4.64512907e-01, 5.51822597e-01, 7.56215819e-01, 1.46442762e-01,\n",
       "       3.12878477e-01, 8.62034360e-01, 5.93301712e-01, 2.43444553e-01,\n",
       "       8.34524881e-01, 1.03778196e-01, 6.03019735e-01, 9.87707286e-01,\n",
       "       3.25466348e-02, 5.43700384e-01, 1.37274732e-01, 6.71413424e-01,\n",
       "       3.54229467e-02, 7.86536740e-02, 3.25652695e-02, 6.29047104e-01,\n",
       "       4.55545531e-01, 7.66469100e-01, 6.45500753e-01, 7.37385113e-01,\n",
       "       8.25002437e-01, 3.92243060e-01, 9.55483699e-03, 5.69500562e-02,\n",
       "       4.71991751e-01, 1.34271148e-01, 1.18189049e-01, 5.11606002e-01,\n",
       "       7.33958080e-01, 3.78416618e-01, 9.68021005e-02, 7.44939366e-01,\n",
       "       1.96402817e-01, 6.30779846e-01, 2.45430095e-01, 8.68314681e-01,\n",
       "       4.02870052e-01, 8.24754982e-01, 5.18046809e-01, 1.15264672e-01,\n",
       "       8.64630188e-01, 2.03741686e-01, 4.08597438e-01, 9.06690910e-02,\n",
       "       7.37665158e-01, 4.98855513e-01, 5.21145294e-01, 3.66274589e-01,\n",
       "       8.93791521e-02, 8.25042293e-01, 2.44125353e-01, 6.05899963e-01,\n",
       "       6.84436436e-01, 6.34752034e-02, 1.21492282e-01, 7.74276497e-01,\n",
       "       4.48075975e-01, 1.09381512e-01, 8.35873560e-01, 7.76351777e-01,\n",
       "       9.40611158e-01, 6.50658485e-01, 4.45645215e-01, 9.84966409e-01,\n",
       "       5.42411924e-01, 4.64671823e-01, 8.30958259e-01, 5.01610686e-01,\n",
       "       8.31102681e-01, 5.43752259e-01, 6.30537281e-01, 6.11879276e-01,\n",
       "       1.81361111e-01, 9.32603812e-01, 3.89628119e-01, 4.51963175e-01,\n",
       "       9.57887862e-01, 3.17243740e-01, 4.66445121e-01, 2.25371365e-02,\n",
       "       2.67073584e-01, 2.64237174e-01, 3.67738388e-01, 3.07470943e-01,\n",
       "       7.60070757e-01, 6.06722123e-01, 9.91924287e-01, 7.41119034e-01,\n",
       "       5.74208230e-01, 4.13232628e-01, 3.93201238e-01, 5.39701943e-01,\n",
       "       3.91537394e-01, 4.12907604e-01, 9.07914509e-01, 6.86553447e-01,\n",
       "       4.71663627e-01, 5.49879260e-01, 5.42954948e-01, 5.09672614e-01,\n",
       "       6.55058901e-02, 4.96656900e-01, 4.92827581e-01, 1.08916355e-01,\n",
       "       6.67009249e-01, 6.73068205e-01, 2.89913992e-01, 2.99673864e-01,\n",
       "       7.60742358e-01, 2.62418464e-01, 9.94723669e-01, 8.42509176e-01,\n",
       "       6.44816389e-02, 2.19101932e-02, 6.45958854e-01, 7.43224295e-01,\n",
       "       1.79695785e-01, 4.84591019e-01, 9.13972487e-01, 7.63459314e-01,\n",
       "       4.82572280e-01, 9.23680418e-01, 8.85498794e-01, 7.94821160e-01,\n",
       "       7.27923966e-01, 3.60128286e-01, 3.72703916e-01, 6.47636147e-01,\n",
       "       8.19964776e-01, 8.45961980e-01, 7.13173667e-01, 2.10708969e-01])"
      ]
     },
     "execution_count": 3,
     "metadata": {},
     "output_type": "execute_result"
    }
   ],
   "source": [
    "ds"
   ]
  },
  {
   "cell_type": "code",
   "execution_count": 4,
   "metadata": {},
   "outputs": [
    {
     "data": {
      "text/plain": [
       "numpy.ndarray"
      ]
     },
     "execution_count": 4,
     "metadata": {},
     "output_type": "execute_result"
    }
   ],
   "source": [
    "type(ds)"
   ]
  },
  {
   "cell_type": "code",
   "execution_count": 5,
   "metadata": {},
   "outputs": [
    {
     "data": {
      "text/plain": [
       "(array([ 99, 101, 105, 112,  91,  90, 102, 106, 101,  93]),\n",
       " array([1.01053319e-04, 9.99650108e-02, 1.99828968e-01, 2.99692926e-01,\n",
       "        3.99556883e-01, 4.99420841e-01, 5.99284798e-01, 6.99148756e-01,\n",
       "        7.99012713e-01, 8.98876671e-01, 9.98740628e-01]))"
      ]
     },
     "execution_count": 5,
     "metadata": {},
     "output_type": "execute_result"
    }
   ],
   "source": [
    "np.histogram(ds)"
   ]
  },
  {
   "cell_type": "code",
   "execution_count": 6,
   "metadata": {},
   "outputs": [],
   "source": [
    "df=pd.Series(ds)"
   ]
  },
  {
   "cell_type": "markdown",
   "metadata": {},
   "source": [
    "i converted the numpy array into a pandas series to use the various pandas methods"
   ]
  },
  {
   "cell_type": "code",
   "execution_count": 7,
   "metadata": {},
   "outputs": [
    {
     "data": {
      "text/plain": [
       "0    0.385454\n",
       "1    0.093835\n",
       "2    0.262225\n",
       "3    0.788768\n",
       "4    0.601598\n",
       "dtype: float64"
      ]
     },
     "execution_count": 7,
     "metadata": {},
     "output_type": "execute_result"
    }
   ],
   "source": [
    "df.head()"
   ]
  },
  {
   "cell_type": "code",
   "execution_count": 8,
   "metadata": {},
   "outputs": [
    {
     "data": {
      "text/plain": [
       "count    1000.000000\n",
       "mean        0.494699\n",
       "std         0.288282\n",
       "min         0.000101\n",
       "25%         0.247580\n",
       "50%         0.487871\n",
       "75%         0.750117\n",
       "max         0.998741\n",
       "dtype: float64"
      ]
     },
     "execution_count": 8,
     "metadata": {},
     "output_type": "execute_result"
    }
   ],
   "source": [
    "df.describe()"
   ]
  },
  {
   "cell_type": "code",
   "execution_count": 9,
   "metadata": {},
   "outputs": [
    {
     "data": {
      "text/plain": [
       "(array([ 99., 101., 105., 112.,  91.,  90., 102., 106., 101.,  93.]),\n",
       " array([1.01053319e-04, 9.99650108e-02, 1.99828968e-01, 2.99692926e-01,\n",
       "        3.99556883e-01, 4.99420841e-01, 5.99284798e-01, 6.99148756e-01,\n",
       "        7.99012713e-01, 8.98876671e-01, 9.98740628e-01]),\n",
       " <a list of 10 Patch objects>)"
      ]
     },
     "execution_count": 9,
     "metadata": {},
     "output_type": "execute_result"
    },
    {
     "data": {
      "image/png": "[encoded data removed]",
      "text/plain": [
       "<Figure size 432x288 with 1 Axes>"
      ]
     },
     "metadata": {
      "needs_background": "light"
     },
     "output_type": "display_data"
    }
   ],
   "source": [
    "plt.hist(df)"
   ]
  },
  {
   "cell_type": "markdown",
   "metadata": {},
   "source": [
    "The above histogram is that of a uniform distribution"
   ]
  },
  {
   "cell_type": "code",
   "execution_count": 10,
   "metadata": {},
   "outputs": [],
   "source": [
    "#this function generates a histogram corresponding to x random numbers \n",
    "def random_hist(x):\n",
    "    dt=rand(x)\n",
    "    dg=pd.Series(dt)\n",
    "    return plt.hist(dg)\n",
    "\n",
    "    "
   ]
  },
  {
   "cell_type": "code",
   "execution_count": 11,
   "metadata": {},
   "outputs": [
    {
     "data": {
      "text/plain": [
       "(array([11., 11., 11., 15.,  7., 10., 11.,  5.,  7., 12.]),\n",
       " array([0.00304462, 0.09999555, 0.19694649, 0.29389742, 0.39084835,\n",
       "        0.48779929, 0.58475022, 0.68170115, 0.77865209, 0.87560302,\n",
       "        0.97255395]),\n",
       " <a list of 10 Patch objects>)"
      ]
     },
     "execution_count": 11,
     "metadata": {},
     "output_type": "execute_result"
    },
    {
     "data": {
      "image/png": "[encoded data removed]",
      "text/plain": [
       "<Figure size 432x288 with 1 Axes>"
      ]
     },
     "metadata": {
      "needs_background": "light"
     },
     "output_type": "display_data"
    }
   ],
   "source": [
    "random_hist(100)"
   ]
  },
  {
   "cell_type": "code",
   "execution_count": 12,
   "metadata": {},
   "outputs": [
    {
     "data": {
      "text/plain": [
       "(array([44., 59., 48., 54., 62., 48., 37., 40., 51., 57.]),\n",
       " array([0.00277227, 0.10237606, 0.20197984, 0.30158362, 0.40118741,\n",
       "        0.50079119, 0.60039497, 0.69999876, 0.79960254, 0.89920632,\n",
       "        0.9988101 ]),\n",
       " <a list of 10 Patch objects>)"
      ]
     },
     "execution_count": 12,
     "metadata": {},
     "output_type": "execute_result"
    },
    {
     "data": {
      "image/png": "[encoded data removed]",
      "text/plain": [
       "<Figure size 432x288 with 1 Axes>"
      ]
     },
     "metadata": {
      "needs_background": "light"
     },
     "output_type": "display_data"
    }
   ],
   "source": [
    "random_hist(500)"
   ]
  },
  {
   "cell_type": "code",
   "execution_count": 13,
   "metadata": {},
   "outputs": [
    {
     "data": {
      "text/plain": [
       "(array([111., 103.,  98.,  82.,  83., 123.,  98.,  99., 105.,  98.]),\n",
       " array([3.58270128e-04, 1.00301389e-01, 2.00244507e-01, 3.00187626e-01,\n",
       "        4.00130744e-01, 5.00073863e-01, 6.00016981e-01, 6.99960100e-01,\n",
       "        7.99903219e-01, 8.99846337e-01, 9.99789456e-01]),\n",
       " <a list of 10 Patch objects>)"
      ]
     },
     "execution_count": 13,
     "metadata": {},
     "output_type": "execute_result"
    },
    {
     "data": {
      "image/png": "[encoded data removed]",
      "text/plain": [
       "<Figure size 432x288 with 1 Axes>"
      ]
     },
     "metadata": {
      "needs_background": "light"
     },
     "output_type": "display_data"
    }
   ],
   "source": [
    "random_hist(1000)"
   ]
  },
  {
   "cell_type": "code",
   "execution_count": 14,
   "metadata": {},
   "outputs": [
    {
     "data": {
      "text/plain": [
       "(array([1007., 1005.,  984., 1013., 1017.,  998.,  981.,  991.,  996.,\n",
       "        1008.]),\n",
       " array([6.41234622e-05, 1.00056970e-01, 2.00049817e-01, 3.00042664e-01,\n",
       "        4.00035511e-01, 5.00028358e-01, 6.00021205e-01, 7.00014052e-01,\n",
       "        8.00006899e-01, 8.99999746e-01, 9.99992593e-01]),\n",
       " <a list of 10 Patch objects>)"
      ]
     },
     "execution_count": 14,
     "metadata": {},
     "output_type": "execute_result"
    },
    {
     "data": {
      "image/png": "[encoded data removed]",
      "text/plain": [
       "<Figure size 432x288 with 1 Axes>"
      ]
     },
     "metadata": {
      "needs_background": "light"
     },
     "output_type": "display_data"
    }
   ],
   "source": [
    "random_hist(10000)"
   ]
  },
  {
   "cell_type": "code",
   "execution_count": 15,
   "metadata": {},
   "outputs": [
    {
     "data": {
      "text/plain": [
       "(array([10149.,  9967.,  9846., 10005.,  9888., 10062., 10010.,  9990.,\n",
       "        10076., 10007.]),\n",
       " array([3.64960442e-06, 1.00002991e-01, 2.00002333e-01, 3.00001675e-01,\n",
       "        4.00001017e-01, 5.00000358e-01, 5.99999700e-01, 6.99999042e-01,\n",
       "        7.99998384e-01, 8.99997725e-01, 9.99997067e-01]),\n",
       " <a list of 10 Patch objects>)"
      ]
     },
     "execution_count": 15,
     "metadata": {},
     "output_type": "execute_result"
    },
    {
     "data": {
      "image/png": "[encoded data removed]",
      "text/plain": [
       "<Figure size 432x288 with 1 Axes>"
      ]
     },
     "metadata": {
      "needs_background": "light"
     },
     "output_type": "display_data"
    }
   ],
   "source": [
    "random_hist(100000)"
   ]
  },
  {
   "cell_type": "code",
   "execution_count": 16,
   "metadata": {},
   "outputs": [
    {
     "data": {
      "text/plain": [
       "(array([ 9997997., 10005042., 10002793.,  9998756.,  9999562.,  9996957.,\n",
       "         9998640.,  9996759.,  9998704., 10004790.]),\n",
       " array([3.54244915e-08, 1.00000030e-01, 2.00000025e-01, 3.00000020e-01,\n",
       "        4.00000014e-01, 5.00000009e-01, 6.00000004e-01, 6.99999999e-01,\n",
       "        7.99999993e-01, 8.99999988e-01, 9.99999983e-01]),\n",
       " <a list of 10 Patch objects>)"
      ]
     },
     "execution_count": 16,
     "metadata": {},
     "output_type": "execute_result"
    },
    {
     "data": {
      "image/png": "[encoded data removed]",
      "text/plain": [
       "<Figure size 432x288 with 1 Axes>"
      ]
     },
     "metadata": {
      "needs_background": "light"
     },
     "output_type": "display_data"
    }
   ],
   "source": [
    "random_hist(100000000)"
   ]
  },
  {
   "cell_type": "markdown",
   "metadata": {},
   "source": [
    "as you see above when the value of x increases we see that the histogram becomes more and more uniform thhis is because the function rand generates numbers corresponding to a uniform distribution"
   ]
  },
  {
   "cell_type": "code",
   "execution_count": 17,
   "metadata": {},
   "outputs": [],
   "source": [
    "#this function generates x random values from a normal distribution having mean=0 and s.d=1\n",
    "def random_normal(x):\n",
    "    dt=np.random.normal(0,1,x)\n",
    "    dg=pd.Series(dt)\n",
    "    return plt.hist(dg)"
   ]
  },
  {
   "cell_type": "code",
   "execution_count": 18,
   "metadata": {},
   "outputs": [
    {
     "data": {
      "text/plain": [
       "(array([ 4.,  4.,  7., 25., 15., 13., 19.,  8.,  2.,  3.]),\n",
       " array([-2.3351912 , -1.85560896, -1.37602672, -0.89644448, -0.41686223,\n",
       "         0.06272001,  0.54230225,  1.0218845 ,  1.50146674,  1.98104898,\n",
       "         2.46063123]),\n",
       " <a list of 10 Patch objects>)"
      ]
     },
     "execution_count": 18,
     "metadata": {},
     "output_type": "execute_result"
    },
    {
     "data": {
      "image/png": "[encoded data removed]",
      "text/plain": [
       "<Figure size 432x288 with 1 Axes>"
      ]
     },
     "metadata": {
      "needs_background": "light"
     },
     "output_type": "display_data"
    }
   ],
   "source": [
    "random_normal(100)"
   ]
  },
  {
   "cell_type": "code",
   "execution_count": 19,
   "metadata": {},
   "outputs": [
    {
     "data": {
      "text/plain": [
       "(array([  2.,   3.,  11.,  32.,  77., 118., 133.,  82.,  34.,   8.]),\n",
       " array([-3.80601606e+00, -3.17165708e+00, -2.53729810e+00, -1.90293913e+00,\n",
       "        -1.26858015e+00, -6.34221172e-01,  1.37804965e-04,  6.34496782e-01,\n",
       "         1.26885576e+00,  1.90321474e+00,  2.53757371e+00]),\n",
       " <a list of 10 Patch objects>)"
      ]
     },
     "execution_count": 19,
     "metadata": {},
     "output_type": "execute_result"
    },
    {
     "data": {
      "image/png": "[encoded data removed]",
      "text/plain": [
       "<Figure size 432x288 with 1 Axes>"
      ]
     },
     "metadata": {
      "needs_background": "light"
     },
     "output_type": "display_data"
    }
   ],
   "source": [
    "random_normal(500)"
   ]
  },
  {
   "cell_type": "code",
   "execution_count": 20,
   "metadata": {},
   "outputs": [
    {
     "data": {
      "text/plain": [
       "(array([  4.,  15.,  54., 141., 234., 262., 173.,  89.,  21.,   7.]),\n",
       " array([-3.38052186, -2.72197559, -2.06342931, -1.40488304, -0.74633677,\n",
       "        -0.0877905 ,  0.57075577,  1.22930204,  1.88784831,  2.54639459,\n",
       "         3.20494086]),\n",
       " <a list of 10 Patch objects>)"
      ]
     },
     "execution_count": 20,
     "metadata": {},
     "output_type": "execute_result"
    },
    {
     "data": {
      "image/png": "[encoded data removed]",
      "text/plain": [
       "<Figure size 432x288 with 1 Axes>"
      ]
     },
     "metadata": {
      "needs_background": "light"
     },
     "output_type": "display_data"
    }
   ],
   "source": [
    "random_normal(1000)"
   ]
  },
  {
   "cell_type": "code",
   "execution_count": 21,
   "metadata": {},
   "outputs": [
    {
     "data": {
      "text/plain": [
       "(array([   7.,   57.,  354., 1286., 2502., 3041., 1901.,  685.,  137.,\n",
       "          30.]),\n",
       " array([-4.0440499 , -3.27228653, -2.50052317, -1.72875981, -0.95699645,\n",
       "        -0.18523308,  0.58653028,  1.35829364,  2.130057  ,  2.90182037,\n",
       "         3.67358373]),\n",
       " <a list of 10 Patch objects>)"
      ]
     },
     "execution_count": 21,
     "metadata": {},
     "output_type": "execute_result"
    },
    {
     "data": {
      "image/png": "[encoded data removed]",
      "text/plain": [
       "<Figure size 432x288 with 1 Axes>"
      ]
     },
     "metadata": {
      "needs_background": "light"
     },
     "output_type": "display_data"
    }
   ],
   "source": [
    "random_normal(10000)"
   ]
  },
  {
   "cell_type": "code",
   "execution_count": 22,
   "metadata": {},
   "outputs": [
    {
     "data": {
      "text/plain": [
       "(array([1.540000e+02, 8.044000e+03, 1.699020e+05, 1.287481e+06,\n",
       "        3.521678e+06, 3.533419e+06, 1.297403e+06, 1.735110e+05,\n",
       "        8.270000e+03, 1.380000e+02]),\n",
       " array([-5.24481442e+00, -4.19655128e+00, -3.14828814e+00, -2.10002499e+00,\n",
       "        -1.05176185e+00, -3.49871380e-03,  1.04476443e+00,  2.09302757e+00,\n",
       "         3.14129071e+00,  4.18955385e+00,  5.23781699e+00]),\n",
       " <a list of 10 Patch objects>)"
      ]
     },
     "execution_count": 22,
     "metadata": {},
     "output_type": "execute_result"
    },
    {
     "data": {
      "image/png": "[encoded data removed]",
      "text/plain": [
       "<Figure size 432x288 with 1 Axes>"
      ]
     },
     "metadata": {
      "needs_background": "light"
     },
     "output_type": "display_data"
    }
   ],
   "source": [
    "random_normal(10000000)"
   ]
  },
  {
   "cell_type": "markdown",
   "metadata": {},
   "source": [
    "the same trend follows with a normal distribution,as x increases the histogram becomes more and more close to a normal distribution"
   ]
  },
  {
   "cell_type": "code",
   "execution_count": 25,
   "metadata": {},
   "outputs": [],
   "source": [
    "def random_exp(x):\n",
    "    dt=np.random.exponential(1,x)\n",
    "    dg=pd.Series(dt)\n",
    "    return plt.hist(dg)"
   ]
  },
  {
   "cell_type": "code",
   "execution_count": 26,
   "metadata": {},
   "outputs": [
    {
     "data": {
      "text/plain": [
       "(array([36., 27., 14.,  6.,  6.,  4.,  4.,  1.,  1.,  1.]),\n",
       " array([0.01325551, 0.53082872, 1.04840192, 1.56597512, 2.08354833,\n",
       "        2.60112153, 3.11869473, 3.63626794, 4.15384114, 4.67141434,\n",
       "        5.18898755]),\n",
       " <a list of 10 Patch objects>)"
      ]
     },
     "execution_count": 26,
     "metadata": {},
     "output_type": "execute_result"
    },
    {
     "data": {
      "image/png": "[encoded data removed]",
      "text/plain": [
       "<Figure size 432x288 with 1 Axes>"
      ]
     },
     "metadata": {
      "needs_background": "light"
     },
     "output_type": "display_data"
    }
   ],
   "source": [
    "random_exp(100)"
   ]
  },
  {
   "cell_type": "code",
   "execution_count": 27,
   "metadata": {},
   "outputs": [
    {
     "data": {
      "text/plain": [
       "(array([389., 237., 146.,  95.,  53.,  31.,  21.,  13.,   8.,   7.]),\n",
       " array([3.16894380e-03, 4.85018442e-01, 9.66867940e-01, 1.44871744e+00,\n",
       "        1.93056694e+00, 2.41241644e+00, 2.89426593e+00, 3.37611543e+00,\n",
       "        3.85796493e+00, 4.33981443e+00, 4.82166393e+00]),\n",
       " <a list of 10 Patch objects>)"
      ]
     },
     "execution_count": 27,
     "metadata": {},
     "output_type": "execute_result"
    },
    {
     "data": {
      "image/png": "[encoded data removed]",
      "text/plain": [
       "<Figure size 432x288 with 1 Axes>"
      ]
     },
     "metadata": {
      "needs_background": "light"
     },
     "output_type": "display_data"
    }
   ],
   "source": [
    "random_exp(1000)"
   ]
  },
  {
   "cell_type": "code",
   "execution_count": 28,
   "metadata": {},
   "outputs": [
    {
     "data": {
      "text/plain": [
       "(array([6.8444e+04, 2.1431e+04, 6.9580e+03, 2.1880e+03, 6.4400e+02,\n",
       "        2.3100e+02, 7.6000e+01, 2.2000e+01, 4.0000e+00, 2.0000e+00]),\n",
       " array([1.03057342e-05, 1.14366322e+00, 2.28731614e+00, 3.43096906e+00,\n",
       "        4.57462197e+00, 5.71827489e+00, 6.86192781e+00, 8.00558073e+00,\n",
       "        9.14923364e+00, 1.02928866e+01, 1.14365395e+01]),\n",
       " <a list of 10 Patch objects>)"
      ]
     },
     "execution_count": 28,
     "metadata": {},
     "output_type": "execute_result"
    },
    {
     "data": {
      "image/png": "[encoded data removed]",
      "text/plain": [
       "<Figure size 432x288 with 1 Axes>"
      ]
     },
     "metadata": {
      "needs_background": "light"
     },
     "output_type": "display_data"
    }
   ],
   "source": [
    "random_exp(100000)"
   ]
  },
  {
   "cell_type": "code",
   "execution_count": 29,
   "metadata": {},
   "outputs": [
    {
     "data": {
      "text/plain": [
       "(array([8.4617271e+07, 1.3017483e+07, 2.0014450e+06, 3.0773000e+05,\n",
       "        4.7393000e+04, 7.3190000e+03, 1.1280000e+03, 1.9700000e+02,\n",
       "        2.6000000e+01, 8.0000000e+00]),\n",
       " array([5.08880750e-09, 1.87200680e+00, 3.74401360e+00, 5.61602040e+00,\n",
       "        7.48802719e+00, 9.36003399e+00, 1.12320408e+01, 1.31040476e+01,\n",
       "        1.49760544e+01, 1.68480612e+01, 1.87200680e+01]),\n",
       " <a list of 10 Patch objects>)"
      ]
     },
     "execution_count": 29,
     "metadata": {},
     "output_type": "execute_result"
    },
    {
     "data": {
      "image/png": "[encoded data removed]",
      "text/plain": [
       "<Figure size 432x288 with 1 Axes>"
      ]
     },
     "metadata": {
      "needs_background": "light"
     },
     "output_type": "display_data"
    }
   ],
   "source": [
    "random_exp(100000000)"
   ]
  },
  {
   "cell_type": "code",
   "execution_count": null,
   "metadata": {},
   "outputs": [],
   "source": []
  }
 ],
 "metadata": {
  "kernelspec": {
   "display_name": "Python 3",
   "language": "python",
   "name": "python3"
  },
  "language_info": {
   "codemirror_mode": {
    "name": "ipython",
    "version": 3
   },
   "file_extension": ".py",
   "mimetype": "text/x-python",
   "name": "python",
   "nbconvert_exporter": "python",
   "pygments_lexer": "ipython3",
   "version": "3.7.1"
  }
 },
 "nbformat": 4,
 "nbformat_minor": 2
}
